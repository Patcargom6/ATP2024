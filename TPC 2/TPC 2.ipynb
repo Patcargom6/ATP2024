{
 "cells": [
  {
   "cell_type": "code",
   "execution_count": 2,
   "metadata": {},
   "outputs": [
    {
     "name": "stdout",
     "output_type": "stream",
     "text": [
      "Bora jogar!\n",
      " Agora é a minha vez de advinhar\n",
      " Agora é a minha vez de advinhar\n",
      " o computador conseguiu advinha o número 25 em 2 tentativas\n"
     ]
    }
   ],
   "source": [
    "import random\n",
    "resposta = input(\" ola pronto para jogar ao advinha , se sim? digita sim\")\n",
    "s = \"sim\"\n",
    "n = \"não\"\n",
    "computador = \"computador\"\n",
    "jogador = \"jogador\"\n",
    "tentativas = 0\n",
    "numero_para_advinhar = random.randint(1,100)\n",
    "advinha_do_pc = 0\n",
    "\n",
    "\n",
    "if resposta == s:\n",
    "    print(\"Bora jogar!\")\n",
    "    resp_2 = input(\"Agora que respondeste 'sim', falta saber: quem vai adivinhar, jogador ou computador? \")\n",
    "    if resp_2 == jogador:\n",
    "            acertou = False\n",
    "            while not acertou: # mesma coisa que dizer enquanto acertou é false o loop continua, isto tambem pode ser expressa doutra forma que é while acertou == False\n",
    "                  resp_jogador = int(input(\"Adivinha um número de 1 a 100: \"))\n",
    "                  tentativas = tentativas + 1 # contabilização de número de tentativas do jogador\n",
    "\n",
    "                  if resp_jogador > numero_para_advinhar:\n",
    "                   print(\"Oops, tenta outra vez! O número é menor que esse.\")\n",
    "                  elif resp_jogador < numero_para_advinhar:\n",
    "                   print(\"Oops, o número é maior que esse.\")\n",
    "                  else:\n",
    "                      acertou = True # o eneceramento do loop, quando o jogador acerta no número\n",
    "                      print(f\"Parabéns!!! Conseguiste adivinhar o número em {tentativas} tentativas.\")\n",
    "\n",
    "    elif resp_2 == computador:\n",
    "            acertou = False\n",
    "            min = 1 # o min e o max indica o intervalo em que o número que o jogador tem em mente\n",
    "            max = 100\n",
    "            while not acertou: \n",
    "                  print( \" Agora é a minha vez de advinhar\")\n",
    "                  tentativas = tentativas + 1\n",
    "                  advinha_do_pc = ((min + max )// 2) # ao busar a média entre o valor min e max apanhamos o valor maximo entre  1 e 100\n",
    "                  resposta_da_pessoa = input(f\" A resposta é maior ou menor do que {advinha_do_pc}: \")\n",
    "                  if resposta_da_pessoa == \"menor\" :\n",
    "                       max = advinha_do_pc - 1 # se o número é menor que advinhado pelo pc o maximo é diminuido\n",
    "                  elif resposta_da_pessoa == \"maior\" :\n",
    "                       min = advinha_do_pc + 1\n",
    "                  elif resposta_da_pessoa == \"igual\"  :\n",
    "                       acertou = True\n",
    "                       print(f\" o computador conseguiu advinha o número {advinha_do_pc} em {tentativas} tentativas\")\n",
    "                  else :\n",
    "                       print(\" Essa resposta é invalida, responda se é maior ou menor\")\n",
    "\n",
    "elif resposta == n:\n",
    "        print( \" Ok, volta quando quiseres jogar\")\n",
    "else:\n",
    "       print (\" Essa opção não está disponível , responda sim ou não\")\n",
    "\n",
    "\n",
    "    \n",
    "\n"
   ]
  }
 ],
 "metadata": {
  "kernelspec": {
   "display_name": "Python 3",
   "language": "python",
   "name": "python3"
  },
  "language_info": {
   "codemirror_mode": {
    "name": "ipython",
    "version": 3
   },
   "file_extension": ".py",
   "mimetype": "text/x-python",
   "name": "python",
   "nbconvert_exporter": "python",
   "pygments_lexer": "ipython3",
   "version": "3.12.6"
  }
 },
 "nbformat": 4,
 "nbformat_minor": 2
}
